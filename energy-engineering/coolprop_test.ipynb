{
 "cells": [
  {
   "cell_type": "code",
   "execution_count": 24,
   "metadata": {
    "collapsed": false
   },
   "outputs": [],
   "source": [
    "import CoolProp\n",
    "from CoolProp.CoolProp import PropsSI\n",
    "from CoolProp.HumidAirProp import HAPropsSI\n",
    "%matplotlib inline"
   ]
  },
  {
   "cell_type": "code",
   "execution_count": 18,
   "metadata": {
    "collapsed": false
   },
   "outputs": [
    {
     "name": "stdout",
     "output_type": "stream",
     "text": [
      "50423.45039076901\n"
     ]
    }
   ],
   "source": [
    "h = HAPropsSI('H','T',298.15,'P',101325,'R',0.5)\n",
    "print(h)"
   ]
  },
  {
   "cell_type": "code",
   "execution_count": 20,
   "metadata": {
    "collapsed": false
   },
   "outputs": [
    {
     "name": "stdout",
     "output_type": "stream",
     "text": [
      "c_p of water at 101325 Pa and 300 K: 4180.64 J/kg/K\n"
     ]
    }
   ],
   "source": [
    "print(\"c_p of water at 101325 Pa and 300 K: {:.2f} J/kg/K\".format(PropsSI(\"C\", \"P\", 101325, \"T\", 300, \"Water\")))"
   ]
  },
  {
   "cell_type": "code",
   "execution_count": 12,
   "metadata": {
    "collapsed": false
   },
   "outputs": [
    {
     "name": "stdout",
     "output_type": "stream",
     "text": [
      "Humidity ratio of 50% rel. hum. air at 300 K, 101325 Pa: 0.0111 kg_w/kg_da\n"
     ]
    }
   ],
   "source": [
    "print(\"Humidity ratio of 50% rel. hum. air at 300 K, 101325 Pa: {:.4f} kg_w/kg_da\".format(HAPropsSI(\"W\", \"T\", 300, \"P\", 101325, \"R\", 0.5)))"
   ]
  },
  {
   "cell_type": "code",
   "execution_count": null,
   "metadata": {
    "collapsed": true
   },
   "outputs": [],
   "source": []
  }
 ],
 "metadata": {
  "kernelspec": {
   "display_name": "Python [conda root]",
   "language": "python",
   "name": "conda-root-py"
  },
  "language_info": {
   "codemirror_mode": {
    "name": "ipython",
    "version": 3
   },
   "file_extension": ".py",
   "mimetype": "text/x-python",
   "name": "python",
   "nbconvert_exporter": "python",
   "pygments_lexer": "ipython3",
   "version": "3.5.2"
  }
 },
 "nbformat": 4,
 "nbformat_minor": 2
}
